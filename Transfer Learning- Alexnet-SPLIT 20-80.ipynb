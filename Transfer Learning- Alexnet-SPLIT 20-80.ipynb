{
 "cells": [
  {
   "cell_type": "code",
   "execution_count": 1,
   "id": "6b872ecb",
   "metadata": {},
   "outputs": [],
   "source": [
    "import torch\n",
    "import torch.nn as nn\n",
    "import torch.optim as optim\n",
    "from torch.optim import lr_scheduler\n",
    "import numpy as np\n",
    "import torchvision\n",
    "from torchvision import datasets, models, transforms\n",
    "import matplotlib.pyplot as plt\n",
    "import time\n",
    "import os\n",
    "import copy\n",
    "import torch.nn.functional as F\n",
    "import pandas as pd\n",
    "import seaborn as sn\n",
    "from sklearn.metrics import confusion_matrix\n",
    "from sklearn.model_selection import train_test_split\n",
    "from torch.utils.data import Subset, DataLoader\n",
    "from torchvision.datasets import ImageFolder"
   ]
  },
  {
   "cell_type": "code",
   "execution_count": 2,
   "id": "960ff56a",
   "metadata": {},
   "outputs": [],
   "source": [
    "device = torch.device('cuda:0' if torch.cuda.is_available() else 'cpu')"
   ]
  },
  {
   "cell_type": "code",
   "execution_count": 3,
   "id": "893d54bf",
   "metadata": {},
   "outputs": [],
   "source": [
    "num_epochs = 20\n",
    "batch_size = 32\n",
    "learning_rate = 0.001"
   ]
  },
  {
   "cell_type": "code",
   "execution_count": 4,
   "id": "4cbea6aa",
   "metadata": {},
   "outputs": [],
   "source": [
    "mean = np.array([0.5, 0.5, 0.5])\n",
    "std = np.array([0.25, 0.25, 0.25])\n",
    "\n",
    "data_transforms = {\n",
    "    'Train': transforms.Compose([\n",
    "        transforms.ToTensor(),\n",
    "        transforms.Normalize(mean, std)\n",
    "    ]),\n",
    "    'Test': transforms.Compose([\n",
    "        transforms.ToTensor(),\n",
    "        transforms.Normalize(mean, std)\n",
    "    ]),\n",
    "}"
   ]
  },
  {
   "cell_type": "code",
   "execution_count": 5,
   "id": "64df6d67",
   "metadata": {},
   "outputs": [
    {
     "name": "stdout",
     "output_type": "stream",
     "text": [
      "['BLB', 'Blast', 'healthy', 'hispa', 'leaf folder', 'leaf spot']\n"
     ]
    }
   ],
   "source": [
    "data_dir = r'C:\\Users\\ND01VY\\OneDrive - Aalborg Universitet\\Desktop\\thermal images UL - Split-Train-Tes'\n",
    "image_datasets = {x: datasets.ImageFolder(os.path.join(data_dir, x),\n",
    "                                          data_transforms[x])\n",
    "                  for x in ['Train', 'Test']}\n",
    "dataloaders = {x: torch.utils.data.DataLoader(image_datasets[x], batch_size=batch_size,\n",
    "                                             shuffle=True, num_workers=0)\n",
    "              for x in ['Train', 'Test']}\n",
    "dataset_sizes = {x: len(image_datasets[x]) for x in ['Train', 'Test']}\n",
    "class_names = image_datasets['Train'].classes\n",
    "\n",
    "print(class_names)"
   ]
  },
  {
   "cell_type": "code",
   "execution_count": 6,
   "id": "b0389151",
   "metadata": {},
   "outputs": [],
   "source": [
    "inputs, classes = next(iter(dataloaders['Train']))"
   ]
  },
  {
   "cell_type": "code",
   "execution_count": 7,
   "id": "c5c58ba0",
   "metadata": {},
   "outputs": [],
   "source": [
    "def train_model(model, criterion, optimizer, scheduler, num_epochs=num_epochs):\n",
    "    since = time.time()\n",
    "\n",
    "    best_model_wts = copy.deepcopy(model.state_dict())\n",
    "    best_acc = 0.0\n",
    "    \n",
    "    loss_plt = []  \n",
    "    accuracy_plt = []\n",
    "    test_loss_plt = []  \n",
    "    test_accuracy_plt = []\n",
    "    \n",
    "    \n",
    "    for epoch in range(num_epochs):\n",
    "        print('Epoch {}/{}'.format(epoch, num_epochs - 1))\n",
    "        print('-' * 10)\n",
    "\n",
    "        # Each epoch has a training and validation phase\n",
    "        for phase in ['Train', 'Test']:\n",
    "            if phase == 'Train':\n",
    "                model.train()  # Set model to training mode\n",
    "            else:\n",
    "                model.eval()   # Set model to evaluate mode\n",
    "\n",
    "            running_loss = 0.0\n",
    "            running_corrects = 0\n",
    "\n",
    "            # Iterate over data.\n",
    "            for inputs, classes in dataloaders[phase]:\n",
    "                inputs = inputs.to(device)\n",
    "                classes = classes.to(device)\n",
    "\n",
    "                # forward\n",
    "                # track history if only in train\n",
    "                with torch.set_grad_enabled(phase == 'Train'):\n",
    "                    outputs = model(inputs)\n",
    "                    _, preds = torch.max(outputs, 1)\n",
    "                    loss = criterion(outputs, classes)\n",
    "\n",
    "                    # backward + optimize only if in training phase\n",
    "                    if phase == 'Train':\n",
    "                        optimizer.zero_grad()\n",
    "                        loss.backward()\n",
    "                        optimizer.step()\n",
    "\n",
    "                # statistics\n",
    "                running_loss += loss.item() * inputs.size(0)\n",
    "                running_corrects += torch.sum(preds == classes.data)\n",
    "\n",
    "            if phase == 'Train':\n",
    "                scheduler.step()\n",
    "\n",
    "            epoch_loss = running_loss / dataset_sizes[phase]\n",
    "            epoch_acc = running_corrects.double() / dataset_sizes[phase]\n",
    "             \n",
    "            if phase == 'Train':\n",
    "                accuracy_plt.append(epoch_acc)\n",
    "                loss_plt.append(epoch_loss)\n",
    "                \n",
    "            if phase == 'Test':\n",
    "                test_accuracy_plt.append(epoch_acc)\n",
    "                test_loss_plt.append(epoch_loss)\n",
    "\n",
    "            print('{} Loss: {:.4f} Acc: {:.4f}'.format(\n",
    "                phase, epoch_loss, epoch_acc))\n",
    "\n",
    "            # deep copy the model\n",
    "            if phase == 'Test' and epoch_acc > best_acc:\n",
    "                best_acc = epoch_acc\n",
    "                best_model_wts = copy.deepcopy(model.state_dict())\n",
    "\n",
    "        print()\n",
    "    \n",
    "    time_elapsed = time.time() - since\n",
    "    print('Training complete in {:.0f}m {:.0f}s'.format(\n",
    "        time_elapsed // 60, time_elapsed % 60))\n",
    "    print('Best Test Acc: {:4f}'.format(best_acc))\n",
    "    \n",
    "    plt.plot(accuracy_plt,label='Training Accuracy')  \n",
    "    plt.plot(test_accuracy_plt,label='Test Accuracy')\n",
    "    plt.xlabel('Epoch')\n",
    "    plt.ylabel('Accuracy')\n",
    "    plt.xticks(range(0, 19))\n",
    "    plt.title('Training vs Test Accuracy')\n",
    "    plt.legend()\n",
    "    plt.show()\n",
    "    \n",
    "    plt.plot(loss_plt,label='Training Loss')  \n",
    "    plt.plot(test_loss_plt,label='Test Loss')\n",
    "    plt.xlabel('Epoch')\n",
    "    plt.ylabel('Loss')\n",
    "    plt.xticks(range(0, 19))\n",
    "    plt.title('Training vs Test Loss')\n",
    "    plt.legend()\n",
    "    plt.show()\n",
    "    \n",
    "    # load best model weights\n",
    "    model.load_state_dict(best_model_wts)\n",
    "    return model"
   ]
  },
  {
   "cell_type": "code",
   "execution_count": 8,
   "id": "55376a84",
   "metadata": {},
   "outputs": [
    {
     "name": "stdout",
     "output_type": "stream",
     "text": [
      "Epoch 0/19\n",
      "----------\n",
      "Train Loss: 1.4190 Acc: 0.4665\n",
      "Test Loss: 0.9683 Acc: 0.6484\n",
      "\n",
      "Epoch 1/19\n",
      "----------\n",
      "Train Loss: 0.8656 Acc: 0.6732\n",
      "Test Loss: 0.8433 Acc: 0.7344\n",
      "\n",
      "Epoch 2/19\n",
      "----------\n",
      "Train Loss: 0.7471 Acc: 0.7283\n",
      "Test Loss: 0.6774 Acc: 0.7578\n",
      "\n",
      "Epoch 3/19\n",
      "----------\n",
      "Train Loss: 0.6797 Acc: 0.7480\n",
      "Test Loss: 0.6521 Acc: 0.7891\n",
      "\n",
      "Epoch 4/19\n",
      "----------\n",
      "Train Loss: 0.5707 Acc: 0.8307\n",
      "Test Loss: 0.6352 Acc: 0.7891\n",
      "\n",
      "Epoch 5/19\n",
      "----------\n",
      "Train Loss: 0.5417 Acc: 0.8130\n",
      "Test Loss: 0.6775 Acc: 0.7734\n",
      "\n",
      "Epoch 6/19\n",
      "----------\n",
      "Train Loss: 0.5369 Acc: 0.8130\n",
      "Test Loss: 0.5588 Acc: 0.8125\n",
      "\n",
      "Epoch 7/19\n",
      "----------\n",
      "Train Loss: 0.4558 Acc: 0.8583\n",
      "Test Loss: 0.5317 Acc: 0.8359\n",
      "\n",
      "Epoch 8/19\n",
      "----------\n",
      "Train Loss: 0.4439 Acc: 0.8583\n",
      "Test Loss: 0.5328 Acc: 0.8203\n",
      "\n",
      "Epoch 9/19\n",
      "----------\n",
      "Train Loss: 0.4546 Acc: 0.8504\n",
      "Test Loss: 0.5396 Acc: 0.7969\n",
      "\n",
      "Epoch 10/19\n",
      "----------\n",
      "Train Loss: 0.4521 Acc: 0.8504\n",
      "Test Loss: 0.5396 Acc: 0.8047\n",
      "\n",
      "Epoch 11/19\n",
      "----------\n",
      "Train Loss: 0.4438 Acc: 0.8583\n",
      "Test Loss: 0.5387 Acc: 0.8047\n",
      "\n",
      "Epoch 12/19\n",
      "----------\n",
      "Train Loss: 0.4334 Acc: 0.8661\n",
      "Test Loss: 0.5378 Acc: 0.7891\n",
      "\n",
      "Epoch 13/19\n",
      "----------\n",
      "Train Loss: 0.4491 Acc: 0.8484\n",
      "Test Loss: 0.5323 Acc: 0.8047\n",
      "\n",
      "Epoch 14/19\n",
      "----------\n",
      "Train Loss: 0.4568 Acc: 0.8366\n",
      "Test Loss: 0.5326 Acc: 0.8047\n",
      "\n",
      "Epoch 15/19\n",
      "----------\n",
      "Train Loss: 0.4372 Acc: 0.8701\n",
      "Test Loss: 0.5335 Acc: 0.8125\n",
      "\n",
      "Epoch 16/19\n",
      "----------\n",
      "Train Loss: 0.4216 Acc: 0.8583\n",
      "Test Loss: 0.5337 Acc: 0.8125\n",
      "\n",
      "Epoch 17/19\n",
      "----------\n",
      "Train Loss: 0.4130 Acc: 0.8701\n",
      "Test Loss: 0.5340 Acc: 0.8125\n",
      "\n",
      "Epoch 18/19\n",
      "----------\n",
      "Train Loss: 0.4419 Acc: 0.8524\n",
      "Test Loss: 0.5352 Acc: 0.8125\n",
      "\n",
      "Epoch 19/19\n",
      "----------\n",
      "Train Loss: 0.4399 Acc: 0.8524\n",
      "Test Loss: 0.5348 Acc: 0.8125\n",
      "\n",
      "Training complete in 3m 51s\n",
      "Best Test Acc: 0.835938\n"
     ]
    },
    {
     "data": {
      "image/png": "[encoded data removed]",
      "text/plain": [
       "<Figure size 432x288 with 1 Axes>"
      ]
     },
     "metadata": {
      "needs_background": "light"
     },
     "output_type": "display_data"
    },
    {
     "data": {
      "image/png": "[encoded data removed]",
      "text/plain": [
       "<Figure size 432x288 with 1 Axes>"
      ]
     },
     "metadata": {
      "needs_background": "light"
     },
     "output_type": "display_data"
    }
   ],
   "source": [
    "model = models.alexnet(pretrained=True)\n",
    "for param in model.parameters():\n",
    "    param.requires_grad = False\n",
    "    \n",
    "\n",
    "num_ftrs = model.classifier[6].in_features\n",
    "model.classifier[6] = nn.Linear(num_ftrs, 6)\n",
    "\n",
    "model = model.to(device)\n",
    "\n",
    "criterion = nn.CrossEntropyLoss()\n",
    "\n",
    "# Observe that all parameters are being optimized\n",
    "#optimizer = optim.SGD(model.parameters(), lr=learning_rate)\n",
    "optimizer = torch.optim.Adam(model.parameters(), lr=learning_rate)\n",
    "\n",
    "step_lr_scheduler = lr_scheduler.StepLR(optimizer, step_size=7, gamma=0.1)\n",
    "\n",
    "model = train_model(model, criterion, optimizer, step_lr_scheduler, num_epochs=num_epochs)\n",
    "\n"
   ]
  },
  {
   "cell_type": "code",
   "execution_count": 9,
   "id": "c035ceee",
   "metadata": {},
   "outputs": [],
   "source": [
    "inputs, labels = next(iter(dataloaders['Test']))"
   ]
  },
  {
   "cell_type": "code",
   "execution_count": 10,
   "id": "b9164fba",
   "metadata": {},
   "outputs": [
    {
     "data": {
      "text/plain": [
       "<AxesSubplot:>"
      ]
     },
     "execution_count": 10,
     "metadata": {},
     "output_type": "execute_result"
    },
    {
     "data": {
      "image/png": "[encoded data removed]",
      "text/plain": [
       "<Figure size 864x576 with 2 Axes>"
      ]
     },
     "metadata": {
      "needs_background": "light"
     },
     "output_type": "display_data"
    }
   ],
   "source": [
    "y_pred = []\n",
    "y_true = []\n",
    "\n",
    "# iterate over test data\n",
    "for inputs, labels in dataloaders['Test']:\n",
    "        output = model(inputs) \n",
    "\n",
    "        output = (torch.max(torch.exp(output), 1)[1]).data.cpu().numpy()\n",
    "        y_pred.extend(output) # Save Prediction\n",
    "        \n",
    "        labels = labels.data.cpu().numpy()\n",
    "        y_true.extend(labels) # Save Truth\n",
    "\n",
    "\n",
    "classes = ('BLB', 'Blast', 'healthy', 'hispa', 'leaf folder', 'leaf spot')\n",
    "\n",
    "# Build confusion matrix\n",
    "cf_matrix = confusion_matrix(y_true, y_pred)\n",
    "df_cm = pd.DataFrame(cf_matrix, index = [i for i in classes], columns = [i for i in classes])\n",
    "plt.figure(figsize = (12,8))\n",
    "sn.heatmap(df_cm, annot=True)\n",
    "#plt.savefig('output.png')"
   ]
  },
  {
   "cell_type": "code",
   "execution_count": 11,
   "id": "b4df904f",
   "metadata": {},
   "outputs": [
    {
     "name": "stdout",
     "output_type": "stream",
     "text": [
      "              precision    recall  f1-score   support\n",
      "\n",
      "         BLB       0.84      0.86      0.85        43\n",
      "       Blast       0.79      0.79      0.79        14\n",
      "     healthy       0.84      0.76      0.80        21\n",
      "       hispa       0.79      1.00      0.88        22\n",
      " leaf folder       1.00      1.00      1.00         7\n",
      "   leaf spot       0.88      0.67      0.76        21\n",
      "\n",
      "    accuracy                           0.84       128\n",
      "   macro avg       0.85      0.85      0.85       128\n",
      "weighted avg       0.84      0.84      0.83       128\n",
      "\n"
     ]
    }
   ],
   "source": [
    "from sklearn.metrics import classification_report\n",
    "print(classification_report(y_pred, y_true, target_names=classes))"
   ]
  },
  {
   "cell_type": "code",
   "execution_count": 12,
   "id": "54869ef1",
   "metadata": {},
   "outputs": [
    {
     "data": {
      "text/html": [
       "<div>\n",
       "<style scoped>\n",
       "    .dataframe tbody tr th:only-of-type {\n",
       "        vertical-align: middle;\n",
       "    }\n",
       "\n",
       "    .dataframe tbody tr th {\n",
       "        vertical-align: top;\n",
       "    }\n",
       "\n",
       "    .dataframe thead th {\n",
       "        text-align: right;\n",
       "    }\n",
       "</style>\n",
       "<table border=\"1\" class=\"dataframe\">\n",
       "  <thead>\n",
       "    <tr style=\"text-align: right;\">\n",
       "      <th></th>\n",
       "      <th>class</th>\n",
       "      <th>sensitivity</th>\n",
       "      <th>specificity</th>\n",
       "    </tr>\n",
       "  </thead>\n",
       "  <tbody>\n",
       "    <tr>\n",
       "      <th>0</th>\n",
       "      <td>0</td>\n",
       "      <td>0.928571</td>\n",
       "      <td>0.840909</td>\n",
       "    </tr>\n",
       "    <tr>\n",
       "      <th>1</th>\n",
       "      <td>1</td>\n",
       "      <td>0.973684</td>\n",
       "      <td>0.785714</td>\n",
       "    </tr>\n",
       "    <tr>\n",
       "      <th>2</th>\n",
       "      <td>2</td>\n",
       "      <td>0.954128</td>\n",
       "      <td>0.842105</td>\n",
       "    </tr>\n",
       "    <tr>\n",
       "      <th>3</th>\n",
       "      <td>3</td>\n",
       "      <td>1.000000</td>\n",
       "      <td>0.785714</td>\n",
       "    </tr>\n",
       "    <tr>\n",
       "      <th>4</th>\n",
       "      <td>4</td>\n",
       "      <td>1.000000</td>\n",
       "      <td>1.000000</td>\n",
       "    </tr>\n",
       "    <tr>\n",
       "      <th>5</th>\n",
       "      <td>5</td>\n",
       "      <td>0.937500</td>\n",
       "      <td>0.875000</td>\n",
       "    </tr>\n",
       "  </tbody>\n",
       "</table>\n",
       "</div>"
      ],
      "text/plain": [
       "   class  sensitivity  specificity\n",
       "0      0     0.928571     0.840909\n",
       "1      1     0.973684     0.785714\n",
       "2      2     0.954128     0.842105\n",
       "3      3     1.000000     0.785714\n",
       "4      4     1.000000     1.000000\n",
       "5      5     0.937500     0.875000"
      ]
     },
     "execution_count": 12,
     "metadata": {},
     "output_type": "execute_result"
    }
   ],
   "source": [
    "from sklearn.metrics import precision_recall_fscore_support\n",
    "res = []\n",
    "for l in [0,1,2,3,4,5]:\n",
    "    prec,recall,_,_ = precision_recall_fscore_support(np.array(y_true)==l, np.array(y_pred)==l, pos_label=True,average=None)\n",
    "    res.append([l,recall[0],recall[1]])\n",
    "\n",
    "pd.DataFrame(res,columns = ['class','sensitivity','specificity'])"
   ]
  },
  {
   "cell_type": "code",
   "execution_count": null,
   "id": "197ab14c",
   "metadata": {},
   "outputs": [],
   "source": []
  }
 ],
 "metadata": {
  "kernelspec": {
   "display_name": "Python 3 (ipykernel)",
   "language": "python",
   "name": "python3"
  },
  "language_info": {
   "codemirror_mode": {
    "name": "ipython",
    "version": 3
   },
   "file_extension": ".py",
   "mimetype": "text/x-python",
   "name": "python",
   "nbconvert_exporter": "python",
   "pygments_lexer": "ipython3",
   "version": "3.8.10"
  }
 },
 "nbformat": 4,
 "nbformat_minor": 5
}
